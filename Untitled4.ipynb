{
  "nbformat": 4,
  "nbformat_minor": 0,
  "metadata": {
    "colab": {
      "provenance": [],
      "authorship_tag": "ABX9TyM1ORbkHfLJQBomvEEUtnam",
      "include_colab_link": true
    },
    "kernelspec": {
      "name": "python3",
      "display_name": "Python 3"
    },
    "language_info": {
      "name": "python"
    }
  },
  "cells": [
    {
      "cell_type": "markdown",
      "metadata": {
        "id": "view-in-github",
        "colab_type": "text"
      },
      "source": [
        "<a href=\"https://colab.research.google.com/github/jyoshini26/POAI-exp-5/blob/main/Untitled4.ipynb\" target=\"_parent\"><img src=\"https://colab.research.google.com/assets/colab-badge.svg\" alt=\"Open In Colab\"/></a>"
      ]
    },
    {
      "cell_type": "code",
      "execution_count": 6,
      "metadata": {
        "colab": {
          "base_uri": "https://localhost:8080/"
        },
        "id": "cb5w5uXjnD6g",
        "outputId": "f121b0c1-9a45-4291-c518-3e7d20e02594"
      },
      "outputs": [
        {
          "output_type": "stream",
          "name": "stdout",
          "text": [
            "Diagnosis: Flu\n"
          ]
        }
      ],
      "source": [
        "# --- Knowledge Base (represented as facts) ---\n",
        "knowledge_base = {\n",
        "    \"fever\": True,\n",
        "    \"cough\": True,\n",
        "    \"sore_throat\": False,\n",
        "    \"headache\": True,\n",
        "    \"body_ache\": True\n",
        "}\n",
        "\n",
        "# --- Rule Base (decision rules based on symptoms) ---\n",
        "def has_flu(kb):\n",
        "    return kb[\"fever\"] and kb[\"cough\"] and kb[\"body_ache\"]\n",
        "\n",
        "def has_cold(kb):\n",
        "    return kb[\"sore_throat\"] and kb[\"cough\"]\n",
        "\n",
        "def has_migraine(kb):\n",
        "    return kb[\"headache\"] and not kb[\"fever\"]\n",
        "\n",
        "# --- Decision Making Function ---\n",
        "def diagnose(kb):\n",
        "    if has_flu(kb):\n",
        "        return \"Diagnosis: Flu\"\n",
        "    elif has_cold(kb):\n",
        "        return \"Diagnosis: Common Cold\"\n",
        "    elif has_migraine(kb):\n",
        "        return \"Diagnosis: Migraine\"\n",
        "    else:\n",
        "        return \"Diagnosis: Unable to determine condition\"\n",
        "\n",
        "# --- Run the system ---\n",
        "result = diagnose(knowledge_base)\n",
        "print(result)\n",
        "\n"
      ]
    }
  ]
}